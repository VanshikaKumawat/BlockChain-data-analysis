# 📦 Imports
import pandas as pd
import os
import seaborn as sns
import matplotlib.pyplot as plt

# 📁 Paths
RAW_PATH = '../data/raw/'
PROCESSED_PATH = '../data/processed/'

# 📄 Load Dataset
file_name = 'transaction_dataset.csv'  # replace if different
df = pd.read_csv(os.path.join(RAW_PATH, file_name))

# 🔍 Preview
print("Shape of dataset:", df.shape)
df.head()

# 🧾 Basic Info
df.info()

# ❓ Missing Values
print("Missing values:\n", df.isnull().sum())

# 🧾 Fraud Label Summary
label_col = 'FLAG'  # Change if needed
label_counts = df[label_col].value_counts()
total = label_counts.sum()

fraud_count = label_counts[1]
normal_count = label_counts[0]

fraud_pct = round((fraud_count / total) * 100, 2)
normal_pct = round((normal_count / total) * 100, 2)

print("🧾 Fraud Label Summary:")
print(f"Normal wallets (FLAG = 0): {normal_count}")
print(f"Fraud wallets  (FLAG = 1): {fraud_count}")

print("\n📊 Class Ratio:")
print(f"Fraud class  = ~{fraud_pct}%")
print(f"Normal class = ~{normal_pct}%")

# 📉 Drop duplicates
df.drop_duplicates(inplace=True)

# 🚿 Handle missing values
df = df.dropna()  # You can replace with fillna(method='ffill') if preferred

# 💾 Save cleaned data
os.makedirs(PROCESSED_PATH, exist_ok=True)
df.to_csv(os.path.join(PROCESSED_PATH, 'cleaned_dataset.csv'), index=False)

print("✅ Cleaned data saved to /data/processed/cleaned_dataset.csv")

# 📊  Plot label distribution
sns.countplot(data=df, x=label_col, palette='Set2')
plt.title("Distribution of Fraudulent vs Normal Wallets")
plt.xticks([0, 1], ['Normal', 'Fraud'])
plt.xlabel("Wallet Type")
plt.ylabel("Count")
plt.grid(True, linestyle='--', alpha=0.5)
plt.tight_layout()
plt.show()
