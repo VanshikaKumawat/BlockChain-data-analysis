{
  "nbformat": 4,
  "nbformat_minor": 0,
  "metadata": {
    "colab": {
      "provenance": []
    },
    "kernelspec": {
      "name": "python3",
      "display_name": "Python 3"
    },
    "language_info": {
      "name": "python"
    }
  },
  "cells": [
    {
      "cell_type": "code",
      "source": [
        "import pandas as pd\n",
        "import matplotlib.pyplot as plt\n",
        "import seaborn as sns\n",
        "import os\n",
        "\n",
        "# Define file path and load data\n",
        "data_dir = '../data/processed/'\n",
        "file_name = 'cleaned_dataset.csv'\n",
        "df = pd.read_csv(os.path.join(data_dir, file_name))\\\n",
        "\n",
        "print(f\"Number of rows and columns: {df.shape}\\n\")\n",
        "print(\"Dataset information:\")\n",
        "print(df.info())"
      ],
      "metadata": {
        "colab": {
          "base_uri": "https://localhost:8080/"
        },
        "id": "5SN6YRbO3qTw",
        "outputId": "fa01205f-b5f4-4aa1-c97a-7c441ebd8e13"
      },
      "execution_count": 101,
      "outputs": [
        {
          "output_type": "stream",
          "name": "stdout",
          "text": [
            "Number of rows and columns: (7121, 51)\n",
            "\n",
            "Dataset information:\n",
            "<class 'pandas.core.frame.DataFrame'>\n",
            "RangeIndex: 7121 entries, 0 to 7120\n",
            "Data columns (total 51 columns):\n",
            " #   Column                                                Non-Null Count  Dtype  \n",
            "---  ------                                                --------------  -----  \n",
            " 0   Unnamed: 0                                            7121 non-null   int64  \n",
            " 1   Index                                                 7121 non-null   int64  \n",
            " 2   Address                                               7121 non-null   object \n",
            " 3   FLAG                                                  7121 non-null   int64  \n",
            " 4   Avg min between sent tnx                              7121 non-null   float64\n",
            " 5   Avg min between received tnx                          7121 non-null   float64\n",
            " 6   Time Diff between first and last (Mins)               7121 non-null   float64\n",
            " 7   Sent tnx                                              7121 non-null   int64  \n",
            " 8   Received Tnx                                          7121 non-null   int64  \n",
            " 9   Number of Created Contracts                           7121 non-null   int64  \n",
            " 10  Unique Received From Addresses                        7121 non-null   int64  \n",
            " 11  Unique Sent To Addresses                              7121 non-null   int64  \n",
            " 12  min value received                                    7121 non-null   float64\n",
            " 13  max value received                                    7121 non-null   float64\n",
            " 14  avg val received                                      7121 non-null   float64\n",
            " 15  min val sent                                          7121 non-null   float64\n",
            " 16  max val sent                                          7121 non-null   float64\n",
            " 17  avg val sent                                          7121 non-null   float64\n",
            " 18  min value sent to contract                            7121 non-null   float64\n",
            " 19  max val sent to contract                              7121 non-null   float64\n",
            " 20  avg value sent to contract                            7121 non-null   float64\n",
            " 21  total transactions (including tnx to create contract  7121 non-null   int64  \n",
            " 22  total Ether sent                                      7121 non-null   float64\n",
            " 23  total ether received                                  7121 non-null   float64\n",
            " 24  total ether sent contracts                            7121 non-null   float64\n",
            " 25  total ether balance                                   7121 non-null   float64\n",
            " 26   Total ERC20 tnxs                                     7121 non-null   float64\n",
            " 27   ERC20 total Ether received                           7121 non-null   float64\n",
            " 28   ERC20 total ether sent                               7121 non-null   float64\n",
            " 29   ERC20 total Ether sent contract                      7121 non-null   float64\n",
            " 30   ERC20 uniq sent addr                                 7121 non-null   float64\n",
            " 31   ERC20 uniq rec addr                                  7121 non-null   float64\n",
            " 32   ERC20 uniq sent addr.1                               7121 non-null   float64\n",
            " 33   ERC20 uniq rec contract addr                         7121 non-null   float64\n",
            " 34   ERC20 avg time between sent tnx                      7121 non-null   float64\n",
            " 35   ERC20 avg time between rec tnx                       7121 non-null   float64\n",
            " 36   ERC20 avg time between rec 2 tnx                     7121 non-null   float64\n",
            " 37   ERC20 avg time between contract tnx                  7121 non-null   float64\n",
            " 38   ERC20 min val rec                                    7121 non-null   float64\n",
            " 39   ERC20 max val rec                                    7121 non-null   float64\n",
            " 40   ERC20 avg val rec                                    7121 non-null   float64\n",
            " 41   ERC20 min val sent                                   7121 non-null   float64\n",
            " 42   ERC20 max val sent                                   7121 non-null   float64\n",
            " 43   ERC20 avg val sent                                   7121 non-null   float64\n",
            " 44   ERC20 min val sent contract                          7121 non-null   float64\n",
            " 45   ERC20 max val sent contract                          7121 non-null   float64\n",
            " 46   ERC20 avg val sent contract                          7121 non-null   float64\n",
            " 47   ERC20 uniq sent token name                           7121 non-null   float64\n",
            " 48   ERC20 uniq rec token name                            7121 non-null   float64\n",
            " 49   ERC20 most sent token type                           7121 non-null   object \n",
            " 50   ERC20_most_rec_token_type                            7121 non-null   object \n",
            "dtypes: float64(39), int64(9), object(3)\n",
            "memory usage: 2.8+ MB\n",
            "None\n"
          ]
        }
      ]
    },
    {
      "cell_type": "code",
      "source": [
        "print(\"\\nSummary statistics of numeric columns:\")\n",
        "print(df.describe())"
      ],
      "metadata": {
        "colab": {
          "base_uri": "https://localhost:8080/"
        },
        "id": "RimGbGQA3yRH",
        "outputId": "b3a82353-0d93-459e-d8ae-3339dc5a9703"
      },
      "execution_count": 102,
      "outputs": [
        {
          "output_type": "stream",
          "name": "stdout",
          "text": [
            "\n",
            "Summary statistics of numeric columns:\n",
            "        Unnamed: 0        Index         FLAG  Avg min between sent tnx  \\\n",
            "count  7121.000000  7121.000000  7121.000000               7121.000000   \n",
            "mean   4772.818846  1843.429294     0.189580               4472.630513   \n",
            "std    2781.004115  1237.050298     0.391996              17741.696100   \n",
            "min       0.000000     1.000000     0.000000                  0.000000   \n",
            "25%    2386.000000   834.000000     0.000000                  0.000000   \n",
            "50%    4743.000000  1668.000000     0.000000                 23.210000   \n",
            "75%    7107.000000  2646.000000     0.000000                733.090000   \n",
            "max    9840.000000  4729.000000     1.000000             299334.140000   \n",
            "\n",
            "       Avg min between received tnx  Time Diff between first and last (Mins)  \\\n",
            "count                   7121.000000                             7.121000e+03   \n",
            "mean                    7846.636450                             1.901013e+05   \n",
            "std                    23408.471326                             3.124040e+05   \n",
            "min                        0.000000                             0.000000e+00   \n",
            "25%                        0.000000                             7.800000e+01   \n",
            "50%                      110.940000                             1.338612e+04   \n",
            "75%                     5033.240000                             2.695227e+05   \n",
            "max                   482175.490000                             1.794671e+06   \n",
            "\n",
            "           Sent tnx  Received Tnx  Number of Created Contracts  \\\n",
            "count   7121.000000   7121.000000                  7121.000000   \n",
            "mean     107.657913    113.122314                     3.592754   \n",
            "std      734.646225    776.854453                   116.725707   \n",
            "min        0.000000      0.000000                     0.000000   \n",
            "25%        1.000000      1.000000                     0.000000   \n",
            "50%        3.000000      3.000000                     0.000000   \n",
            "75%       12.000000     14.000000                     0.000000   \n",
            "max    10000.000000   9999.000000                  6453.000000   \n",
            "\n",
            "       Unique Received From Addresses  ...   ERC20 max val rec  \\\n",
            "count                     7121.000000  ...        7.121000e+03   \n",
            "mean                        25.440668  ...        1.547573e+08   \n",
            "std                        246.250112  ...        1.185400e+10   \n",
            "min                          0.000000  ...        0.000000e+00   \n",
            "25%                          1.000000  ...        0.000000e+00   \n",
            "50%                          2.000000  ...        0.000000e+00   \n",
            "75%                          5.000000  ...        1.337000e+01   \n",
            "max                       7409.000000  ...        1.000000e+12   \n",
            "\n",
            "        ERC20 avg val rec   ERC20 min val sent   ERC20 max val sent  \\\n",
            "count        7.121000e+03         7.121000e+03         7.121000e+03   \n",
            "mean         4.598489e+06         1.485891e+04         1.649641e+07   \n",
            "std          2.399529e+08         1.185227e+06         1.327353e+09   \n",
            "min          0.000000e+00         0.000000e+00         0.000000e+00   \n",
            "25%          0.000000e+00         0.000000e+00         0.000000e+00   \n",
            "50%          0.000000e+00         0.000000e+00         0.000000e+00   \n",
            "75%          1.337000e+01         0.000000e+00         0.000000e+00   \n",
            "max          1.724181e+10         1.000000e+08         1.120000e+11   \n",
            "\n",
            "        ERC20 avg val sent   ERC20 min val sent contract  \\\n",
            "count         7.121000e+03                        7121.0   \n",
            "mean          7.996224e+06                           0.0   \n",
            "std           6.653917e+08                           0.0   \n",
            "min           0.000000e+00                           0.0   \n",
            "25%           0.000000e+00                           0.0   \n",
            "50%           0.000000e+00                           0.0   \n",
            "75%           0.000000e+00                           0.0   \n",
            "max           5.614756e+10                           0.0   \n",
            "\n",
            "        ERC20 max val sent contract   ERC20 avg val sent contract  \\\n",
            "count                        7121.0                        7121.0   \n",
            "mean                            0.0                           0.0   \n",
            "std                             0.0                           0.0   \n",
            "min                             0.0                           0.0   \n",
            "25%                             0.0                           0.0   \n",
            "50%                             0.0                           0.0   \n",
            "75%                             0.0                           0.0   \n",
            "max                             0.0                           0.0   \n",
            "\n",
            "        ERC20 uniq sent token name   ERC20 uniq rec token name  \n",
            "count                  7121.000000                 7121.000000  \n",
            "mean                      1.746103                    4.929364  \n",
            "std                       7.535058                   18.507672  \n",
            "min                       0.000000                    0.000000  \n",
            "25%                       0.000000                    0.000000  \n",
            "50%                       0.000000                    0.000000  \n",
            "75%                       0.000000                    1.000000  \n",
            "max                     213.000000                  737.000000  \n",
            "\n",
            "[8 rows x 48 columns]\n"
          ]
        }
      ]
    },
    {
      "cell_type": "code",
      "source": [
        "missing = df.isnull().sum()\n",
        "print(\"\\nColumns with missing values:\")\n",
        "print(missing[missing > 0])"
      ],
      "metadata": {
        "colab": {
          "base_uri": "https://localhost:8080/"
        },
        "id": "wroWlD7y33sf",
        "outputId": "16ab44ff-befa-41d3-f493-1222981251a8"
      },
      "execution_count": 103,
      "outputs": [
        {
          "output_type": "stream",
          "name": "stdout",
          "text": [
            "\n",
            "Columns with missing values:\n",
            "Series([], dtype: int64)\n"
          ]
        }
      ]
    },
    {
      "cell_type": "code",
      "source": [
        "# Display count of classes in target column 'FLAG'\n",
        "target_col = 'FLAG'\n",
        "print(\"\\nCounts per class:\")\n",
        "print(df[target_col].value_counts())"
      ],
      "metadata": {
        "colab": {
          "base_uri": "https://localhost:8080/"
        },
        "id": "8WOdAxxz38kP",
        "outputId": "f4007fde-b2b3-42d3-86ff-cdc55b071975"
      },
      "execution_count": 104,
      "outputs": [
        {
          "output_type": "stream",
          "name": "stdout",
          "text": [
            "\n",
            "Counts per class:\n",
            "FLAG\n",
            "0    5771\n",
            "1    1350\n",
            "Name: count, dtype: int64\n"
          ]
        }
      ]
    },
    {
      "cell_type": "code",
      "source": [
        "plt.figure(figsize=(7, 5))\n",
        "sns.countplot(x=target_col, data=df)\n",
        "plt.title('Distribution of Wallet Types')\n",
        "plt.xlabel('Wallet Type (0: Normal, 1: Fraud)')\n",
        "plt.ylabel('Number of Wallets')\n",
        "plt.xticks([0, 1], ['Normal', 'Fraud'])\n",
        "plt.grid(axis='y', linestyle='--', alpha=0.5)\n",
        "plt.tight_layout()\n",
        "plt.show()\n"
      ],
      "metadata": {
        "colab": {
          "base_uri": "https://localhost:8080/",
          "height": 475
        },
        "id": "efrlbNkq1g2A",
        "outputId": "c7c32132-c64f-4fdc-d4ba-63d15378fdb2"
      },
      "execution_count": 105,
      "outputs": [
        {
          "output_type": "display_data",
          "data": {
            "text/plain": [
              "<Figure size 700x500 with 1 Axes>"
            ],
            "image/png": "[encoded data removed]"
          },
          "metadata": {}
        }
      ]
    },
    {
      "cell_type": "code",
      "source": [],
      "metadata": {
        "id": "tBt_r8Gz25CR"
      },
      "execution_count": null,
      "outputs": []
    }
  ]
}